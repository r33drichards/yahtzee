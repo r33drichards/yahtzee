{
 "cells": [
  {
   "cell_type": "markdown",
   "id": "offensive-silver",
   "metadata": {},
   "source": [
    "[Yahtzee problem set Cornell](http://pi.math.cornell.edu/~mec/2006-2007/Probability/Yahtzee.htm#:~:text=Your%20objective%20is%20to%20get,to%20convince%20yourself%20of%20this)\n",
    "\n"
   ]
  },
  {
   "cell_type": "markdown",
   "id": "sitting-immigration",
   "metadata": {},
   "source": [
    "**1** if you roll a die three times, what is the probablity that you get a six at least once?"
   ]
  },
  {
   "cell_type": "code",
   "execution_count": 78,
   "id": "activated-virgin",
   "metadata": {},
   "outputs": [
    {
     "data": {
      "text/plain": [
       "0.42129629629629617"
      ]
     },
     "execution_count": 78,
     "metadata": {},
     "output_type": "execute_result"
    }
   ],
   "source": [
    "1- (5/6)**3"
   ]
  },
  {
   "cell_type": "markdown",
   "id": "black-issue",
   "metadata": {},
   "source": [
    "**1.1** if you roll two dice two times, what is the probability of getting 2 sixes?"
   ]
  },
  {
   "cell_type": "code",
   "execution_count": 2,
   "id": "affected-atlantic",
   "metadata": {},
   "outputs": [
    {
     "data": {
      "text/plain": [
       "0.05401234567901235"
      ]
     },
     "execution_count": 2,
     "metadata": {},
     "output_type": "execute_result"
    }
   ],
   "source": [
    "from scipy.stats import binom\n",
    "\n",
    "binom.pmf(1,2,1/36)"
   ]
  },
  {
   "cell_type": "markdown",
   "id": "buried-leeds",
   "metadata": {},
   "source": [
    "**1.2** if you roll 3 dice 2 times what is the probability of getting 3 sixes?"
   ]
  },
  {
   "cell_type": "code",
   "execution_count": 3,
   "id": "dietary-picnic",
   "metadata": {},
   "outputs": [
    {
     "data": {
      "text/plain": [
       "0.00921639231824417"
      ]
     },
     "execution_count": 3,
     "metadata": {},
     "output_type": "execute_result"
    }
   ],
   "source": [
    "binom.pmf(1,2,((1/6)**3))"
   ]
  },
  {
   "cell_type": "markdown",
   "id": "cloudy-washington",
   "metadata": {},
   "source": [
    "**2.** Suppose that on the first roll you get 5 5 4 3 2. If you pick up one of the fives and try for a large straight, what is the probability you will succeed in the two rolls that remain?"
   ]
  },
  {
   "cell_type": "code",
   "execution_count": 4,
   "id": "desperate-restriction",
   "metadata": {},
   "outputs": [
    {
     "data": {
      "text/plain": [
       "0.5555555555555556"
      ]
     },
     "execution_count": 4,
     "metadata": {},
     "output_type": "execute_result"
    }
   ],
   "source": [
    "1 -((4/6)**2)"
   ]
  },
  {
   "cell_type": "markdown",
   "id": "rising-bernard",
   "metadata": {},
   "source": [
    "**3** Suppose that on the first roll you get 6 5 5 3 2. If you pick up one of the fives and try for a large straight, what is the probability you will succeed in the two rolls that remain? Is it the same as in the previous problem?\n"
   ]
  },
  {
   "cell_type": "code",
   "execution_count": 5,
   "id": "laden-revelation",
   "metadata": {},
   "outputs": [
    {
     "data": {
      "text/plain": [
       "0.30555555555555547"
      ]
     },
     "execution_count": 5,
     "metadata": {},
     "output_type": "execute_result"
    }
   ],
   "source": [
    "1 - ((5/6)**2)"
   ]
  },
  {
   "cell_type": "markdown",
   "id": "substantial-andrew",
   "metadata": {},
   "source": [
    "**4** In the top six rows of the score card you want to score at least three of a given number (especially for the high numbers like 5 and 6). Suppose you roll 6, 6, 5, 2, 1 the first time, and re-roll all non 6's on the next two tries. What is the probability you will end up with at least three 6's? Exactly four 6's? A Yahtzee (five 6's)?\n",
    "\n",
    "a more interesting version of this problem. given a first roll of `n` 6's, what is the probabilty I wind up with at least 3, 4 or 5 6's. \n",
    "\n",
    "\n",
    "naive solution is to generate and measure. I'll get back to this since it will be usefull to check my work.\n",
    "\n",
    "\n",
    "a more directed solution would be to calculate this using [Binomial Distribution](https://en.wikipedia.org/wiki/Binomial_distribution). \n",
    "\n",
    "$$f(k,n,p) = \\Pr(k;n,p) = \\Pr(X = k) = \\binom{n}{k}p^k(1-p)^{n-k}$$\n"
   ]
  },
  {
   "cell_type": "markdown",
   "id": "spectacular-comment",
   "metadata": {},
   "source": [
    "find the probability for at least y discrete values to appear in a sequence, given a x sided die, j dice, and k rolls\n",
    "\n",
    "\n",
    " $$\n",
    " Y = \\sum_{k=1}^{n} f(k,n,p) = f(1, 2, \\frac{1}{6}) + f(2, 2, \\frac{1}{6}) \\approx 0.31\n",
    "$$\n",
    "\n",
    "where\n",
    "- $n$ is the number of rolls\n",
    "- $f(k,n,p)$ is the probability mass function of the Binomial Distribution\n",
    "- $p$ is the probability of landing on the discrete value \n",
    " \n"
   ]
  },
  {
   "cell_type": "markdown",
   "id": "advisory-realtor",
   "metadata": {},
   "source": [
    "$p$ is a little dicey because it is dependent on the number of dice in play"
   ]
  },
  {
   "cell_type": "markdown",
   "id": "domestic-drain",
   "metadata": {},
   "source": [
    "the calculation for two dice is \n",
    "$$\n",
    "f(1, 2, \\frac{1}{6})\n",
    "$$\n",
    "\n"
   ]
  },
  {
   "cell_type": "markdown",
   "id": "palestinian-maldives",
   "metadata": {},
   "source": [
    "from [Optimal Yahtzee](https://nb.jjk.is/doc/tree/work/Probability/Yahtzee/Markus_Felldin_and_Vinit_Sood.pdf)\n",
    "Equation 3: Def. probability of going from n beneficial dice to m beneficial dice in one roll:\n",
    "Equation 4: Def. probability of going from i beneficial dice to j beneficial dice in two rolls is the sum of\n",
    "all ways of going from n to m in two tries:\n",
    "\n",
    "\n",
    "$$\n",
    "p(n, m)=C_{n, m} p^{m}(1-p)^{n-m}\n",
    "$$\n",
    "$$\n",
    "p^{2}(i, j)=\\sum_{k=1}^{5} p(i, k) p(k, j)\n",
    "$$\n",
    "\n",
    "\n"
   ]
  },
  {
   "cell_type": "markdown",
   "id": "planned-shaft",
   "metadata": {},
   "source": [
    "$$\n",
    "$$"
   ]
  },
  {
   "cell_type": "code",
   "execution_count": 2,
   "id": "ultimate-herald",
   "metadata": {},
   "outputs": [],
   "source": [
    "#Python Code\n",
    "import math\n",
    "\n",
    "# Equation 1.1\n",
    "def select(n,m):\n",
    "    C = math.factorial(n)/(math.factorial(m)*math.factorial(n-m))\n",
    "    return C\n",
    "\n",
    "# Equation 1.3\n",
    "def prob1(fro,to):\n",
    "    ''' Calculates the chance of going from one amount of a number to\n",
    "    another in one dice roll'''\n",
    "    n = NUM_DICE-fro\n",
    "    m = to-fro\n",
    "    C = select(n,m)\n",
    "\n",
    "    prob = C*math.pow(1.0/6.0,(m))*math.pow(5.0/6.0,(n-m))\n",
    "    return prob\n",
    "\n",
    "# Equation 1.4\n",
    "def prob2(fro,to):\n",
    "    '''Calculates the chance of going from one amount of a number to\n",
    "    another in two dice rolls'''\n",
    "    prob = 0\n",
    "    for i in range(fro,to+1):\n",
    "        prob += prob1(fro,i)*prob1(i,to)\n",
    "    return prob\n"
   ]
  },
  {
   "cell_type": "code",
   "execution_count": 6,
   "id": "primary-association",
   "metadata": {},
   "outputs": [
    {
     "data": {
      "image/png": "[encoded data removed]",
      "text/plain": [
       "<Figure size 432x288 with 2 Axes>"
      ]
     },
     "metadata": {
      "needs_background": "light"
     },
     "output_type": "display_data"
    }
   ],
   "source": [
    "from pandas import pandas as pd\n",
    "import seaborn as sns \n",
    "\n",
    "data = []\n",
    "NUM_DICE=5\n",
    "\n",
    "# initial i\n",
    "for x in range(1,NUM_DICE+1):\n",
    "    row = []\n",
    "    dice_left = NUM_DICE - x\n",
    "    # at least y\n",
    "    for y in range(1,NUM_DICE+1):\n",
    "        series =[]\n",
    "        for n in range(NUM_DICE,y-1,-1):\n",
    "            series.append(prob2(x,n))\n",
    "        row.append(sum(series))\n",
    "    data.append(row)\n",
    "        \n",
    "df = pd.DataFrame(data, index=[1,2,3,4,5], columns=[1,2,3,4,5])\n",
    "df.index.name = \"# of 6's on first roll\"\n",
    "df.columns.name = \"probabiltiy of getting at least n 6's after two more rolls\"\n",
    "heatmap = sns.heatmap(df, annot=True, cmap='Spectral')\n",
    "fig = heatmap.get_figure()\n",
    "fig.savefig(\"two-rolls.png\") "
   ]
  },
  {
   "cell_type": "code",
   "execution_count": 5,
   "id": "played-limit",
   "metadata": {},
   "outputs": [
    {
     "data": {
      "image/png": "[encoded data removed]",
      "text/plain": [
       "<Figure size 432x288 with 2 Axes>"
      ]
     },
     "metadata": {
      "needs_background": "light"
     },
     "output_type": "display_data"
    }
   ],
   "source": [
    "data = []\n",
    "NUM_DICE=5\n",
    "\n",
    "# initial i\n",
    "for x in range(1,NUM_DICE+1):\n",
    "    row = []\n",
    "    dice_left = NUM_DICE - x\n",
    "    # at least y\n",
    "    for y in range(1,NUM_DICE+1):\n",
    "        series =[]\n",
    "        for n in range(NUM_DICE,y-1,-1):\n",
    "            if x>n:\n",
    "                continue\n",
    "            series.append(prob1(x,n))\n",
    "        row.append(sum(series))\n",
    "    data.append(row)\n",
    "        \n",
    "df = pd.DataFrame(data, index=[1,2,3,4,5], columns=[1,2,3,4,5])\n",
    "df.index.name = \"# of 6's on first roll\"\n",
    "df.columns.name = \"probabiltiy of getting at least n 6's after one more rolls\"\n",
    "heatmap = sns.heatmap(df, annot=True, cmap='Spectral');\n",
    "fig = heatmap.get_figure()\n",
    "fig.savefig(\"one-rolls.png\") "
   ]
  },
  {
   "cell_type": "markdown",
   "id": "documentary-auction",
   "metadata": {},
   "source": [
    "**5.** Suppose on the first roll you get 5, 4, 4, 3, 1. To try to get a large straight you pick up a 4 and the 1 and then roll again. If you get a 6 or 2 you keep it, and you re-roll the others. Of course if you happen to get a 2 and 1 on the second roll you stop and are happy. What is the probability you will end up with a large straight? What is the probability you will end up with a small straight?\n",
    "\n",
    "Suppose instead you keep 5, 4, 3, 1, and re-roll 1 die. If you get a 2 you are happy. If you get a 6 you re-roll the 1. Otherwise you take a second chance at rolling the 2. What is the probability you will end up with a large straight? a small straight?\n",
    "\n"
   ]
  }
 ],
 "metadata": {
  "kernelspec": {
   "display_name": "Python 3",
   "language": "python",
   "name": "python3"
  },
  "language_info": {
   "codemirror_mode": {
    "name": "ipython",
    "version": 3
   },
   "file_extension": ".py",
   "mimetype": "text/x-python",
   "name": "python",
   "nbconvert_exporter": "python",
   "pygments_lexer": "ipython3",
   "version": "3.8.6"
  }
 },
 "nbformat": 4,
 "nbformat_minor": 5
}
